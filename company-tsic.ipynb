{
 "cells": [
  {
   "cell_type": "code",
   "execution_count": 1,
   "metadata": {},
   "outputs": [
    {
     "name": "stdout",
     "output_type": "stream",
     "text": [
      "Requirement already satisfied: pandas_datareader in c:\\users\\panasun\\anaconda3\\lib\\site-packages (0.9.0)\n",
      "Requirement already satisfied: lxml in c:\\users\\panasun\\anaconda3\\lib\\site-packages (from pandas_datareader) (4.6.1)\n",
      "Requirement already satisfied: pandas>=0.23 in c:\\users\\panasun\\anaconda3\\lib\\site-packages (from pandas_datareader) (1.1.3)\n",
      "Requirement already satisfied: requests>=2.19.0 in c:\\users\\panasun\\anaconda3\\lib\\site-packages (from pandas_datareader) (2.24.0)\n",
      "Requirement already satisfied: pytz>=2017.2 in c:\\users\\panasun\\anaconda3\\lib\\site-packages (from pandas>=0.23->pandas_datareader) (2020.1)\n",
      "Requirement already satisfied: numpy>=1.15.4 in c:\\users\\panasun\\anaconda3\\lib\\site-packages (from pandas>=0.23->pandas_datareader) (1.19.2)\n",
      "Requirement already satisfied: python-dateutil>=2.7.3 in c:\\users\\panasun\\anaconda3\\lib\\site-packages (from pandas>=0.23->pandas_datareader) (2.8.1)\n",
      "Requirement already satisfied: urllib3!=1.25.0,!=1.25.1,<1.26,>=1.21.1 in c:\\users\\panasun\\anaconda3\\lib\\site-packages (from requests>=2.19.0->pandas_datareader) (1.25.11)\n",
      "Requirement already satisfied: idna<3,>=2.5 in c:\\users\\panasun\\anaconda3\\lib\\site-packages (from requests>=2.19.0->pandas_datareader) (2.10)\n",
      "Requirement already satisfied: certifi>=2017.4.17 in c:\\users\\panasun\\anaconda3\\lib\\site-packages (from requests>=2.19.0->pandas_datareader) (2020.6.20)\n",
      "Requirement already satisfied: chardet<4,>=3.0.2 in c:\\users\\panasun\\anaconda3\\lib\\site-packages (from requests>=2.19.0->pandas_datareader) (3.0.4)\n",
      "Requirement already satisfied: six>=1.5 in c:\\users\\panasun\\appdata\\roaming\\python\\python38\\site-packages (from python-dateutil>=2.7.3->pandas>=0.23->pandas_datareader) (1.13.0)\n",
      "Requirement already satisfied: pandas in c:\\users\\panasun\\anaconda3\\lib\\site-packages (1.1.3)\n",
      "Requirement already satisfied: pytz>=2017.2 in c:\\users\\panasun\\anaconda3\\lib\\site-packages (from pandas) (2020.1)\n",
      "Requirement already satisfied: python-dateutil>=2.7.3 in c:\\users\\panasun\\anaconda3\\lib\\site-packages (from pandas) (2.8.1)\n",
      "Requirement already satisfied: numpy>=1.15.4 in c:\\users\\panasun\\anaconda3\\lib\\site-packages (from pandas) (1.19.2)\n",
      "Requirement already satisfied: six>=1.5 in c:\\users\\panasun\\appdata\\roaming\\python\\python38\\site-packages (from python-dateutil>=2.7.3->pandas) (1.13.0)\n",
      "Requirement already satisfied: matplotlib in c:\\users\\panasun\\anaconda3\\lib\\site-packages (3.3.2)\n",
      "Requirement already satisfied: pillow>=6.2.0 in c:\\users\\panasun\\anaconda3\\lib\\site-packages (from matplotlib) (8.0.1)\n",
      "Requirement already satisfied: cycler>=0.10 in c:\\users\\panasun\\anaconda3\\lib\\site-packages (from matplotlib) (0.10.0)\n",
      "Requirement already satisfied: pyparsing!=2.0.4,!=2.1.2,!=2.1.6,>=2.0.3 in c:\\users\\panasun\\anaconda3\\lib\\site-packages (from matplotlib) (2.4.7)\n",
      "Requirement already satisfied: certifi>=2020.06.20 in c:\\users\\panasun\\anaconda3\\lib\\site-packages (from matplotlib) (2020.6.20)\n",
      "Requirement already satisfied: python-dateutil>=2.1 in c:\\users\\panasun\\anaconda3\\lib\\site-packages (from matplotlib) (2.8.1)\n",
      "Requirement already satisfied: numpy>=1.15 in c:\\users\\panasun\\anaconda3\\lib\\site-packages (from matplotlib) (1.19.2)\n",
      "Requirement already satisfied: kiwisolver>=1.0.1 in c:\\users\\panasun\\anaconda3\\lib\\site-packages (from matplotlib) (1.3.0)\n",
      "Requirement already satisfied: six in c:\\users\\panasun\\appdata\\roaming\\python\\python38\\site-packages (from cycler>=0.10->matplotlib) (1.13.0)\n",
      "Requirement already satisfied: yahoofinancials in c:\\users\\panasun\\anaconda3\\lib\\site-packages (1.6)\n",
      "Requirement already satisfied: beautifulsoup4 in c:\\users\\panasun\\anaconda3\\lib\\site-packages (from yahoofinancials) (4.9.3)\n",
      "Requirement already satisfied: pytz in c:\\users\\panasun\\anaconda3\\lib\\site-packages (from yahoofinancials) (2020.1)\n",
      "Requirement already satisfied: soupsieve>1.2; python_version >= \"3.0\" in c:\\users\\panasun\\anaconda3\\lib\\site-packages (from beautifulsoup4->yahoofinancials) (2.0.1)\n",
      "Requirement already satisfied: requests in c:\\users\\panasun\\anaconda3\\lib\\site-packages (2.24.0)\n",
      "Requirement already satisfied: idna<3,>=2.5 in c:\\users\\panasun\\anaconda3\\lib\\site-packages (from requests) (2.10)\n",
      "Requirement already satisfied: chardet<4,>=3.0.2 in c:\\users\\panasun\\anaconda3\\lib\\site-packages (from requests) (3.0.4)\n",
      "Requirement already satisfied: certifi>=2017.4.17 in c:\\users\\panasun\\anaconda3\\lib\\site-packages (from requests) (2020.6.20)\n",
      "Requirement already satisfied: urllib3!=1.25.0,!=1.25.1,<1.26,>=1.21.1 in c:\\users\\panasun\\anaconda3\\lib\\site-packages (from requests) (1.25.11)\n",
      "Requirement already satisfied: sympy in c:\\users\\panasun\\anaconda3\\lib\\site-packages (1.6.2)\n",
      "Requirement already satisfied: mpmath>=0.19 in c:\\users\\panasun\\anaconda3\\lib\\site-packages (from sympy) (1.1.0)\n",
      "Requirement already satisfied: scipy in c:\\users\\panasun\\anaconda3\\lib\\site-packages (1.5.2)\n",
      "Requirement already satisfied: numpy>=1.14.5 in c:\\users\\panasun\\anaconda3\\lib\\site-packages (from scipy) (1.19.2)\n",
      "Requirement already satisfied: numpy in c:\\users\\panasun\\anaconda3\\lib\\site-packages (1.19.2)\n",
      "Requirement already satisfied: beautifulsoup4 in c:\\users\\panasun\\anaconda3\\lib\\site-packages (4.9.3)\n",
      "Requirement already satisfied: soupsieve>1.2; python_version >= \"3.0\" in c:\\users\\panasun\\anaconda3\\lib\\site-packages (from beautifulsoup4) (2.0.1)\n"
     ]
    }
   ],
   "source": [
    "try:\n",
    "    get_ipython().system('pip install pandas_datareader')\n",
    "    get_ipython().system('pip install pandas')\n",
    "    get_ipython().system('pip install matplotlib')\n",
    "    get_ipython().system('pip install yahoofinancials')\n",
    "    get_ipython().system('pip install requests')\n",
    "    get_ipython().system('pip install sympy')\n",
    "    get_ipython().system('pip install scipy')\n",
    "    get_ipython().system('pip install numpy')\n",
    "    get_ipython().system('pip install beautifulsoup4')\n",
    "except Exception:\n",
    "    pass"
   ]
  },
  {
   "cell_type": "code",
   "execution_count": 2,
   "metadata": {},
   "outputs": [],
   "source": [
    "import os\n",
    "import datetime\n",
    "import pandas_datareader.data as web\n",
    "import matplotlib.pyplot as plt\n",
    "import pandas as pd\n",
    "import requests\n",
    "from concurrent.futures import ThreadPoolExecutor, as_completed\n",
    "from sympy.solvers import solve\n",
    "from sympy import Symbol\n",
    "from scipy.optimize import fsolve\n",
    "import numpy as np\n",
    "from bs4 import BeautifulSoup\n",
    "import threading\n",
    "import random"
   ]
  },
  {
   "cell_type": "code",
   "execution_count": 3,
   "metadata": {},
   "outputs": [],
   "source": [
    "# f_tsic = open('tsic.txt', 'r')\n",
    "# tsics = f_tsic.read().split('\\n')\n",
    "# print(tsics)"
   ]
  },
  {
   "cell_type": "code",
   "execution_count": 4,
   "metadata": {},
   "outputs": [],
   "source": [
    "# c = cookie.split(';')\n",
    "# arr = c.reduce((arr, r) => {\n",
    "#     t = r.split('=');\n",
    "#     arr[t[0]] = t[1];\n",
    "#  return arr \n",
    "# }, {});"
   ]
  },
  {
   "cell_type": "code",
   "execution_count": 3,
   "metadata": {},
   "outputs": [],
   "source": [
    "cookies = {\n",
    "  \"_ga\": \"GA1.3.993575882.1604161883\",\n",
    "  \" visid_incap_2466346\": \"WNSYEMKSSNyurvAsaURFh9hu/l8AAAAAQUIPAAAAAABVVCKDrMkR+hZJh2uSXdTJ\",\n",
    "  \" visid_incap_2466345\": \"YNnJISW0RnaCej6V7v+TW/Vu/l8AAAAAQUIPAAAAAAAzDo7peKup2/bO+yKqYSQ+\",\n",
    "  \" visid_incap_2466344\": \"7cW6UwU6SJGHu7H4NYq4GCVOBWAAAAAAQUIPAAAAAABqhAtCtmbd8Aajh4nn0FG1\",\n",
    "  \" visid_incap_2466350\": \"HpEanVYPSQiYz3MeB1l8I2sACWAAAAAAQUIPAAAAAADvtYi3YpeM6NlDHGcqDpHe\",\n",
    "  \" visid_incap_2466341\": \"AONuAyRvQweFRY+9FDDSqpoBCWAAAAAAQUIPAAAAAACtpubEWaHv0zHKmrLV42GG\",\n",
    "  \" incap_ses_1138_2466344\": \"mgYQdqBdeXHVYLa3K/3KDzcGImAAAAAAuQKV9ygWHCPI4T5WK39sxw\",\n",
    "  \" _gid\": \"GA1.3.1535636500.1613273415\",\n",
    "  \" incap_ses_1133_2466346\": \"/9jlAkenJCAMvV8gvjm5DzmaKGAAAAAAZReIRtNmA+CL2ipN1Hw+5A\",\n",
    "  \" incap_ses_1133_2466341\": \"TPEEcjpf+RoerHYgvjm5DyIJKWAAAAAAL1dUJvvno0DicYCejY3fJg\",\n",
    "  \" incap_ses_1133_2466344\": \"NepaGJrBCWqvVdkgvjm5D35WKmAAAAAA2Uf0yPLaMfTLy6X0uU3yvg\",\n",
    "  \" JSESSIONID\": \"ZDlkZWE5MDQtODFlZi00NmY0LWEwY2QtYTM1YjA4YzIyNDAz\",\n",
    "  \" _gat_gtag_UA_135637184_1\": \"1\"\n",
    "}"
   ]
  },
  {
   "cell_type": "code",
   "execution_count": 6,
   "metadata": {},
   "outputs": [],
   "source": [
    "# f = open('company-tsic-1.csv', 'w', encoding='utf-8')\n",
    "# f.write('รหัสนิติบุคคล|ลำดับ|เลขทะเบียนนิติบุคคล|ชื่อนิติบุคคล|ประเภทนิติบุคคล|จังหวัด|ที่ตั้ง|โทรศัพท์|ขนาดธุรกิจ|ทุนจดทะเบียน (บาท)|รายได้รวม (บาท)|กำไร (ขาดทุน) สุทธิ (บาท)|สินทรัพย์รวม (บาท)|รวมส่วนของผู้ถือหุ้น (บาท)|link\\n')"
   ]
  },
  {
   "cell_type": "code",
   "execution_count": 7,
   "metadata": {},
   "outputs": [],
   "source": [
    "# def fetch_company_by_tsic(tsic):\n",
    "#     data = {\n",
    "#         'reportType': 'XLS',\n",
    "#         'currentPage': 0,\n",
    "#         'maxSize': 100000,\n",
    "#         'totalPage': 1000,\n",
    "#         'textSearchFilter': tsic,\n",
    "#         'orderBy': 'jpName',\n",
    "#     }\n",
    "#     print(tsic)\n",
    "    \n",
    "#     with requests.post('https://datawarehouse.dbd.go.th/searchBizPartnerJuristicFilter', cookies=cookies, data = data) as r:\n",
    "#         soup = BeautifulSoup(r.content, 'lxml')\n",
    "#         rows = soup.find_all('tr')\n",
    "        \n",
    "#         for row in rows:\n",
    "#             col = row.find_all('td')\n",
    "#             if len(col) == 0:\n",
    "#                 continue\n",
    "            \n",
    "#             c0 = col[0].get_text()\n",
    "#             c1 = col[1].get_text()\n",
    "#             c2 = col[2].get_text()\n",
    "#             c3 = col[3].get_text()\n",
    "#             c4 = col[4].get_text()\n",
    "#             c5 = col[5].get_text()\n",
    "#             c6 = col[6].get_text()\n",
    "#             c7 = col[7].get_text()\n",
    "#             c8 = col[8].get_text()\n",
    "#             c9 = col[9].get_text()\n",
    "#             c10 = col[10].get_text()\n",
    "#             c11 = col[11].get_text()\n",
    "#             c12 = col[12].get_text()\n",
    "#             link = row.get('data-href')\n",
    "            \n",
    "#             d = '%s|%s|%s|%s|%s|%s|%s|%s|%s|%s|%s|%s|%s|%s|%s\\n' % (tsic, c0, c1, c2, c3, c4, c5, c6, c7, c8, c9, c10, c11, c12, link)\n",
    "#             f.write(d)\n",
    "    "
   ]
  },
  {
   "cell_type": "code",
   "execution_count": 8,
   "metadata": {},
   "outputs": [],
   "source": [
    "# processes = []\n",
    "\n",
    "# with ThreadPoolExecutor(max_workers=50) as executor:\n",
    "#     for tsic in tsics:\n",
    "#         processes.append(executor.submit(fetch_company_by_tsic, tsic))\n",
    "\n",
    "# for task in as_completed(processes):\n",
    "#     print(task.result())\n",
    "    \n",
    "# f.close()"
   ]
  },
  {
   "cell_type": "code",
   "execution_count": 9,
   "metadata": {},
   "outputs": [],
   "source": [
    "# f = open('company-tsic-id.csv', 'w', encoding='utf-8')\n",
    "# f.write('รหัสนิติบุคคล|คำอธิบาย\\n')"
   ]
  },
  {
   "cell_type": "code",
   "execution_count": 10,
   "metadata": {},
   "outputs": [],
   "source": [
    "# def tsic_description(tsic):\n",
    "#     with requests.get('https://datawarehouse.dbd.go.th/biz/partner/juristic/' + tsic, cookies=cookies) as r:\n",
    "#         soup = BeautifulSoup(r.content, 'lxml')\n",
    "#         row = soup.find_all('h2')[2].get_text().split(' - ')\n",
    "#         print(row)\n",
    "#         description = row[1]\n",
    "#         d = '%s|%s\\n' % (tsic, description)\n",
    "#         f.write(d)\n",
    "    "
   ]
  },
  {
   "cell_type": "code",
   "execution_count": 11,
   "metadata": {},
   "outputs": [],
   "source": [
    "# processes = []\n",
    "\n",
    "# with ThreadPoolExecutor(max_workers=300) as executor:\n",
    "#     for tsic in tsics:\n",
    "#         processes.append(executor.submit(tsic_description, tsic))\n",
    "\n",
    "# for task in as_completed(processes):\n",
    "#     print(task.result())\n",
    "    \n",
    "# f.close()"
   ]
  },
  {
   "cell_type": "code",
   "execution_count": 4,
   "metadata": {},
   "outputs": [],
   "source": [
    "f_company = open('company-link.txt', 'r')\n",
    "company_links = f_company.read().split('\\n')\n",
    "random.shuffle(company_links)"
   ]
  },
  {
   "cell_type": "code",
   "execution_count": 5,
   "metadata": {},
   "outputs": [
    {
     "data": {
      "text/plain": [
       "289"
      ]
     },
     "execution_count": 5,
     "metadata": {},
     "output_type": "execute_result"
    }
   ],
   "source": [
    "f = open('company-profile.csv', 'w', encoding='utf-8')\n",
    "f.write('รหัสนิติบุคคล|ชื่อนิติบุคคล|สถานะนิติบุคคล|วันที่จดทะเบียนจัดตั้ง|ทุนจดทะเบียน|ปีที่ส่งงบการเงิน|ที่ตั้ง|โทรศัพท์|เว็บไซต์|อีเมล|รายชื่อคณะกรรมการ|กรรมการลงชื่อผูกผัน|ประเภทธุรกิจตอนจดทะเบียน|วัตถุประสงค์ตอนจดทะเบียน|ประเภทธุรกิจที่ส่งงบการเงินปีล่าสุด|วัตถุประสงค์ที่ส่งงบการเงินปีล่าสุด\\n')"
   ]
  },
  {
   "cell_type": "code",
   "execution_count": 6,
   "metadata": {},
   "outputs": [],
   "source": [
    "def company_profile(link):\n",
    "    with requests.get('https://datawarehouse.dbd.go.th/' + link, cookies=cookies) as r:\n",
    "        try:\n",
    "            soup = BeautifulSoup(r.content, 'lxml')\n",
    "            company = soup.find_all('h2')[2].get_text().replace('ชื่อนิติบุคคล : ', '')\n",
    "            company_id = link.split('/')[4]\n",
    "\n",
    "            tr = soup.find_all('tr')\n",
    "            status = tr[2].find_all('td')[1].get_text()\n",
    "            est_date = tr[3].find_all('td')[1].get_text()\n",
    "            book_equity = tr[4].find_all('td')[1].get_text()\n",
    "            financial_year = tr[6].find_all('td')[1].get_text().strip().replace('\\n', ', ').strip()\n",
    "            address = tr[9].find_all('td')[0].get_text().strip()\n",
    "            tel = tr[10].find_all('td')[1].get_text().strip()\n",
    "            website = tr[12].find_all('td')[1].get_text().strip()\n",
    "            email = tr[13].find_all('td')[1].get_text().strip()\n",
    "            board_list = soup.find_all('div', {'class': 'box-text'})[0].get_text().replace('\\t', '').replace('\\n', ' ').replace('\\r', ' ').replace('  ', ' ').strip()\n",
    "            board_power = soup.find_all('div', {'class': 'box-text'})[1].get_text().replace('\\t', '').replace('\\n', ' ').replace('\\r', ' ').replace('  ', ' ').strip() \n",
    "            obj_1 = soup.find_all('div', {'class': 'box-text'})[2].get_text().replace('\\t', '').replace('\\n', ' ').replace('\\r', ' ').replace('  ', ' ').strip() \n",
    "            obj_2 = soup.find_all('div', {'class': 'box-text'})[3].get_text().replace('\\t', '').replace('\\n\\n', ' ').replace('\\r', ' ').replace('  ', ' ').strip() \n",
    "            obj_3 = soup.find_all('div', {'class': 'box-text'})[4].get_text().replace('\\t', '').replace('\\n', ' ').replace('\\r', ' ').replace('  ', ' ').strip() \n",
    "            obj_4 = soup.find_all('div', {'class': 'box-text'})[5].get_text().replace('\\t', '').replace('\\n', ' ').replace('\\r', ' ').replace('  ', ' ').strip() \n",
    "\n",
    "            print(company_id)\n",
    "            d = '%s|%s|%s|%s|%s|%s|%s|%s|%s|%s|%s|%s|%s|%s|%s|%s\\n' % (company_id, company, status, est_date, book_equity, financial_year, address, tel, website, email, board_list, board_power, obj_1, obj_2, obj_3, obj_4)\n",
    "            f.write(d)\n",
    "        except Exception:\n",
    "            print('failed')\n",
    "            pass\n",
    "    "
   ]
  },
  {
   "cell_type": "code",
   "execution_count": 1,
   "metadata": {},
   "outputs": [
    {
     "ename": "NameError",
     "evalue": "name 'ThreadPoolExecutor' is not defined",
     "output_type": "error",
     "traceback": [
      "\u001b[1;31m---------------------------------------------------------------------------\u001b[0m",
      "\u001b[1;31mNameError\u001b[0m                                 Traceback (most recent call last)",
      "\u001b[1;32m<ipython-input-1-2f372118fc01>\u001b[0m in \u001b[0;36m<module>\u001b[1;34m\u001b[0m\n\u001b[0;32m      1\u001b[0m \u001b[0mprocesses\u001b[0m \u001b[1;33m=\u001b[0m \u001b[1;33m[\u001b[0m\u001b[1;33m]\u001b[0m\u001b[1;33m\u001b[0m\u001b[1;33m\u001b[0m\u001b[0m\n\u001b[0;32m      2\u001b[0m \u001b[1;33m\u001b[0m\u001b[0m\n\u001b[1;32m----> 3\u001b[1;33m \u001b[1;32mwith\u001b[0m \u001b[0mThreadPoolExecutor\u001b[0m\u001b[1;33m(\u001b[0m\u001b[0mmax_workers\u001b[0m\u001b[1;33m=\u001b[0m\u001b[1;36m100\u001b[0m\u001b[1;33m)\u001b[0m \u001b[1;32mas\u001b[0m \u001b[0mexecutor\u001b[0m\u001b[1;33m:\u001b[0m\u001b[1;33m\u001b[0m\u001b[1;33m\u001b[0m\u001b[0m\n\u001b[0m\u001b[0;32m      4\u001b[0m     \u001b[1;32mfor\u001b[0m \u001b[0mlink\u001b[0m \u001b[1;32min\u001b[0m \u001b[0mcompany_links\u001b[0m\u001b[1;33m:\u001b[0m\u001b[1;33m\u001b[0m\u001b[1;33m\u001b[0m\u001b[0m\n\u001b[0;32m      5\u001b[0m         \u001b[0mprocesses\u001b[0m\u001b[1;33m.\u001b[0m\u001b[0mappend\u001b[0m\u001b[1;33m(\u001b[0m\u001b[0mexecutor\u001b[0m\u001b[1;33m.\u001b[0m\u001b[0msubmit\u001b[0m\u001b[1;33m(\u001b[0m\u001b[0mcompany_profile\u001b[0m\u001b[1;33m,\u001b[0m \u001b[0mlink\u001b[0m\u001b[1;33m)\u001b[0m\u001b[1;33m)\u001b[0m\u001b[1;33m\u001b[0m\u001b[1;33m\u001b[0m\u001b[0m\n",
      "\u001b[1;31mNameError\u001b[0m: name 'ThreadPoolExecutor' is not defined"
     ]
    }
   ],
   "source": [
    "processes = []\n",
    "\n",
    "with ThreadPoolExecutor(max_workers=100) as executor:\n",
    "    for link in company_links:\n",
    "        processes.append(executor.submit(company_profile, link))\n",
    "\n",
    "for task in as_completed(processes):\n",
    "    print(task.result())\n",
    "    \n",
    "f.close()"
   ]
  },
  {
   "cell_type": "code",
   "execution_count": 8,
   "metadata": {},
   "outputs": [],
   "source": [
    "f.close()"
   ]
  },
  {
   "cell_type": "code",
   "execution_count": null,
   "metadata": {},
   "outputs": [],
   "source": []
  }
 ],
 "metadata": {
  "kernelspec": {
   "display_name": "Python 3",
   "language": "python",
   "name": "python3"
  },
  "language_info": {
   "codemirror_mode": {
    "name": "ipython",
    "version": 3
   },
   "file_extension": ".py",
   "mimetype": "text/x-python",
   "name": "python",
   "nbconvert_exporter": "python",
   "pygments_lexer": "ipython3",
   "version": "3.8.5"
  }
 },
 "nbformat": 4,
 "nbformat_minor": 4
}
